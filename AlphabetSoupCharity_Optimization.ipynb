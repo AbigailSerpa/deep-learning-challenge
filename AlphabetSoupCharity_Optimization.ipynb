{
 "cells": [
  {
   "cell_type": "code",
   "execution_count": 3,
   "metadata": {
    "id": "qIbbgMPxnO0C"
   },
   "outputs": [],
   "source": [
    "# Import our dependencies\n",
    "from sklearn.model_selection import train_test_split\n",
    "from sklearn.preprocessing import StandardScaler\n",
    "import pandas as pd\n",
    "import tensorflow as tf\n",
    "\n",
    "#  Import and read the charity_data.csv.\n",
    "import pandas as pd\n",
    "application_df = pd.read_csv(\"https://static.bc-edx.com/data/dl-1-2/m21/lms/starter/charity_data.csv\")\n",
    "application_df.head()\n",
    "import tensorflow as tf\n",
    "from tensorflow.keras.models import Sequential\n",
    "from tensorflow.keras.layers import Dense, Dropout\n"
   ]
  },
  {
   "cell_type": "code",
   "execution_count": 6,
   "metadata": {
    "id": "fr2GePs-pJSV"
   },
   "outputs": [],
   "source": [
    "application_df = application_df.drop(columns=['EIN', 'NAME'])"
   ]
  },
  {
   "cell_type": "code",
   "execution_count": 7,
   "metadata": {
    "id": "EvevsqE_pR_d"
   },
   "outputs": [],
   "source": [
    "# Convert categorical data to numeric\n",
    "application_df = pd.get_dummies(application_df)"
   ]
  },
  {
   "cell_type": "code",
   "execution_count": 8,
   "metadata": {
    "id": "Z5BGPzyUpVFP"
   },
   "outputs": [],
   "source": [
    "# Split the preprocessed data into features and target arrays\n",
    "X = application_df.drop(columns=['IS_SUCCESSFUL'])\n",
    "y = application_df['IS_SUCCESSFUL']\n"
   ]
  },
  {
   "cell_type": "code",
   "execution_count": 9,
   "metadata": {
    "id": "F94jGTKdpX-F"
   },
   "outputs": [],
   "source": [
    "# Split into training and testing datasets\n",
    "X_train, X_test, y_train, y_test = train_test_split(X, y, test_size=0.2, random_state=42)\n"
   ]
  },
  {
   "cell_type": "code",
   "execution_count": 10,
   "metadata": {
    "id": "9BYOhbWupccO"
   },
   "outputs": [],
   "source": [
    "# Scale the feature data\n",
    "scaler = StandardScaler()\n",
    "X_train_scaled = scaler.fit_transform(X_train)\n",
    "X_test_scaled = scaler.transform(X_test)"
   ]
  },
  {
   "cell_type": "code",
   "execution_count": 11,
   "metadata": {
    "id": "XHBAjlbSn4zL"
   },
   "outputs": [],
   "source": [
    "# Define the number of input features\n",
    "input_features = X_train_scaled.shape[1]"
   ]
  },
  {
   "cell_type": "code",
   "execution_count": 14,
   "metadata": {
    "id": "Cwb73QBIplMZ"
   },
   "outputs": [],
   "source": [
    "# Create a new neural network model\n",
    "optimized_nn = Sequential()"
   ]
  },
  {
   "cell_type": "code",
   "execution_count": 15,
   "metadata": {
    "id": "mUF9lcbbpmiw"
   },
   "outputs": [],
   "source": [
    "# First hidden layer\n",
    "optimized_nn.add(Dense(units=100, activation='relu', input_dim=input_features))\n",
    "optimized_nn.add(Dropout(0.2))"
   ]
  },
  {
   "cell_type": "code",
   "execution_count": null,
   "metadata": {
    "id": "UA5MoYxzpmQs"
   },
   "outputs": [],
   "source": [
    "\n",
    "# prompt: optimized_nn.add(Dense(units=50, activation='relu'))\n",
    "\n",
    "optimized_nn.add(Dense(units=50, activation='relu'))\n",
    "optimized_nn.add(Dropout(0.2))\n",
    "optimized_nn.add(Dense(units=1, activation='sigmoid'))\n",
    "\n",
    "# Compile the model\n",
    "optimized_nn.compile(loss='binary_crossentropy', optimizer='adam', metrics=['accuracy'])\n",
    "\n",
    "# Train the model\n",
    "fit_model = optimized_nn.fit(X_train_scaled, y_train, epochs=100)"
   ]
  },
  {
   "cell_type": "code",
   "execution_count": 16,
   "metadata": {
    "id": "Lgf96cizplyZ"
   },
   "outputs": [],
   "source": [
    "# Second hidden layer\n",
    "optimized_nn.add(Dense(units=50, activation='relu'))"
   ]
  },
  {
   "cell_type": "code",
   "execution_count": 17,
   "metadata": {
    "id": "nShGpBn_plk3"
   },
   "outputs": [],
   "source": [
    "# Third hidden layer\n",
    "optimized_nn.add(Dense(units=25, activation='relu'))"
   ]
  },
  {
   "cell_type": "code",
   "execution_count": 18,
   "metadata": {
    "id": "HtzAk0oZql9w"
   },
   "outputs": [],
   "source": [
    "# Output layer with sigmoid activation\n",
    "optimized_nn.add(Dense(units=1, activation='sigmoid'))"
   ]
  },
  {
   "cell_type": "code",
   "execution_count": 19,
   "metadata": {
    "id": "QkbsT789q7Ua"
   },
   "outputs": [],
   "source": [
    "# Compile the optimized model with a different optimizer\n",
    "optimized_nn.compile(optimizer=tf.keras.optimizers.Adam(learning_rate=0.001),\n",
    "                     loss='binary_crossentropy',\n",
    "                     metrics=['accuracy'])\n"
   ]
  },
  {
   "cell_type": "code",
   "execution_count": 20,
   "metadata": {
    "colab": {
     "base_uri": "https://localhost:8080/"
    },
    "id": "B9RY3jMsq-9e",
    "outputId": "0544e881-9214-4f0e-c6a9-7460fc71152f"
   },
   "outputs": [
    {
     "name": "stdout",
     "output_type": "stream",
     "text": [
      "Epoch 1/150\n",
      "\u001b[1m858/858\u001b[0m \u001b[32m━━━━━━━━━━━━━━━━━━━━\u001b[0m\u001b[37m\u001b[0m \u001b[1m11s\u001b[0m 5ms/step - accuracy: 0.6933 - loss: 0.6026 - val_accuracy: 0.7254 - val_loss: 0.5610\n",
      "Epoch 2/150\n",
      "\u001b[1m858/858\u001b[0m \u001b[32m━━━━━━━━━━━━━━━━━━━━\u001b[0m\u001b[37m\u001b[0m \u001b[1m4s\u001b[0m 5ms/step - accuracy: 0.7301 - loss: 0.5548 - val_accuracy: 0.7233 - val_loss: 0.5613\n",
      "Epoch 3/150\n",
      "\u001b[1m858/858\u001b[0m \u001b[32m━━━━━━━━━━━━━━━━━━━━\u001b[0m\u001b[37m\u001b[0m \u001b[1m5s\u001b[0m 5ms/step - accuracy: 0.7300 - loss: 0.5528 - val_accuracy: 0.7246 - val_loss: 0.5570\n",
      "Epoch 4/150\n",
      "\u001b[1m858/858\u001b[0m \u001b[32m━━━━━━━━━━━━━━━━━━━━\u001b[0m\u001b[37m\u001b[0m \u001b[1m5s\u001b[0m 4ms/step - accuracy: 0.7320 - loss: 0.5469 - val_accuracy: 0.7297 - val_loss: 0.5564\n",
      "Epoch 5/150\n",
      "\u001b[1m858/858\u001b[0m \u001b[32m━━━━━━━━━━━━━━━━━━━━\u001b[0m\u001b[37m\u001b[0m \u001b[1m4s\u001b[0m 4ms/step - accuracy: 0.7291 - loss: 0.5515 - val_accuracy: 0.7310 - val_loss: 0.5564\n",
      "Epoch 6/150\n",
      "\u001b[1m858/858\u001b[0m \u001b[32m━━━━━━━━━━━━━━━━━━━━\u001b[0m\u001b[37m\u001b[0m \u001b[1m6s\u001b[0m 6ms/step - accuracy: 0.7338 - loss: 0.5464 - val_accuracy: 0.7316 - val_loss: 0.5555\n",
      "Epoch 7/150\n",
      "\u001b[1m858/858\u001b[0m \u001b[32m━━━━━━━━━━━━━━━━━━━━\u001b[0m\u001b[37m\u001b[0m \u001b[1m4s\u001b[0m 5ms/step - accuracy: 0.7340 - loss: 0.5459 - val_accuracy: 0.7302 - val_loss: 0.5544\n",
      "Epoch 8/150\n",
      "\u001b[1m858/858\u001b[0m \u001b[32m━━━━━━━━━━━━━━━━━━━━\u001b[0m\u001b[37m\u001b[0m \u001b[1m4s\u001b[0m 3ms/step - accuracy: 0.7345 - loss: 0.5432 - val_accuracy: 0.7309 - val_loss: 0.5565\n",
      "Epoch 9/150\n",
      "\u001b[1m858/858\u001b[0m \u001b[32m━━━━━━━━━━━━━━━━━━━━\u001b[0m\u001b[37m\u001b[0m \u001b[1m3s\u001b[0m 3ms/step - accuracy: 0.7311 - loss: 0.5462 - val_accuracy: 0.7306 - val_loss: 0.5550\n",
      "Epoch 10/150\n",
      "\u001b[1m858/858\u001b[0m \u001b[32m━━━━━━━━━━━━━━━━━━━━\u001b[0m\u001b[37m\u001b[0m \u001b[1m4s\u001b[0m 4ms/step - accuracy: 0.7283 - loss: 0.5506 - val_accuracy: 0.7262 - val_loss: 0.5558\n",
      "Epoch 11/150\n",
      "\u001b[1m858/858\u001b[0m \u001b[32m━━━━━━━━━━━━━━━━━━━━\u001b[0m\u001b[37m\u001b[0m \u001b[1m4s\u001b[0m 3ms/step - accuracy: 0.7316 - loss: 0.5457 - val_accuracy: 0.7325 - val_loss: 0.5538\n",
      "Epoch 12/150\n",
      "\u001b[1m858/858\u001b[0m \u001b[32m━━━━━━━━━━━━━━━━━━━━\u001b[0m\u001b[37m\u001b[0m \u001b[1m3s\u001b[0m 3ms/step - accuracy: 0.7325 - loss: 0.5480 - val_accuracy: 0.7332 - val_loss: 0.5532\n",
      "Epoch 13/150\n",
      "\u001b[1m858/858\u001b[0m \u001b[32m━━━━━━━━━━━━━━━━━━━━\u001b[0m\u001b[37m\u001b[0m \u001b[1m3s\u001b[0m 3ms/step - accuracy: 0.7331 - loss: 0.5407 - val_accuracy: 0.7315 - val_loss: 0.5530\n",
      "Epoch 14/150\n",
      "\u001b[1m858/858\u001b[0m \u001b[32m━━━━━━━━━━━━━━━━━━━━\u001b[0m\u001b[37m\u001b[0m \u001b[1m4s\u001b[0m 4ms/step - accuracy: 0.7406 - loss: 0.5366 - val_accuracy: 0.7321 - val_loss: 0.5532\n",
      "Epoch 15/150\n",
      "\u001b[1m858/858\u001b[0m \u001b[32m━━━━━━━━━━━━━━━━━━━━\u001b[0m\u001b[37m\u001b[0m \u001b[1m3s\u001b[0m 4ms/step - accuracy: 0.7380 - loss: 0.5395 - val_accuracy: 0.7321 - val_loss: 0.5541\n",
      "Epoch 16/150\n",
      "\u001b[1m858/858\u001b[0m \u001b[32m━━━━━━━━━━━━━━━━━━━━\u001b[0m\u001b[37m\u001b[0m \u001b[1m4s\u001b[0m 3ms/step - accuracy: 0.7357 - loss: 0.5434 - val_accuracy: 0.7306 - val_loss: 0.5536\n",
      "Epoch 17/150\n",
      "\u001b[1m858/858\u001b[0m \u001b[32m━━━━━━━━━━━━━━━━━━━━\u001b[0m\u001b[37m\u001b[0m \u001b[1m3s\u001b[0m 3ms/step - accuracy: 0.7385 - loss: 0.5356 - val_accuracy: 0.7296 - val_loss: 0.5546\n",
      "Epoch 18/150\n",
      "\u001b[1m858/858\u001b[0m \u001b[32m━━━━━━━━━━━━━━━━━━━━\u001b[0m\u001b[37m\u001b[0m \u001b[1m3s\u001b[0m 4ms/step - accuracy: 0.7357 - loss: 0.5407 - val_accuracy: 0.7321 - val_loss: 0.5533\n",
      "Epoch 19/150\n",
      "\u001b[1m858/858\u001b[0m \u001b[32m━━━━━━━━━━━━━━━━━━━━\u001b[0m\u001b[37m\u001b[0m \u001b[1m4s\u001b[0m 3ms/step - accuracy: 0.7365 - loss: 0.5401 - val_accuracy: 0.7315 - val_loss: 0.5516\n",
      "Epoch 20/150\n",
      "\u001b[1m858/858\u001b[0m \u001b[32m━━━━━━━━━━━━━━━━━━━━\u001b[0m\u001b[37m\u001b[0m \u001b[1m2s\u001b[0m 3ms/step - accuracy: 0.7284 - loss: 0.5477 - val_accuracy: 0.7332 - val_loss: 0.5548\n",
      "Epoch 21/150\n",
      "\u001b[1m858/858\u001b[0m \u001b[32m━━━━━━━━━━━━━━━━━━━━\u001b[0m\u001b[37m\u001b[0m \u001b[1m3s\u001b[0m 3ms/step - accuracy: 0.7349 - loss: 0.5394 - val_accuracy: 0.7310 - val_loss: 0.5570\n",
      "Epoch 22/150\n",
      "\u001b[1m858/858\u001b[0m \u001b[32m━━━━━━━━━━━━━━━━━━━━\u001b[0m\u001b[37m\u001b[0m \u001b[1m3s\u001b[0m 3ms/step - accuracy: 0.7326 - loss: 0.5399 - val_accuracy: 0.7328 - val_loss: 0.5538\n",
      "Epoch 23/150\n",
      "\u001b[1m858/858\u001b[0m \u001b[32m━━━━━━━━━━━━━━━━━━━━\u001b[0m\u001b[37m\u001b[0m \u001b[1m3s\u001b[0m 4ms/step - accuracy: 0.7442 - loss: 0.5316 - val_accuracy: 0.7277 - val_loss: 0.5535\n",
      "Epoch 24/150\n",
      "\u001b[1m858/858\u001b[0m \u001b[32m━━━━━━━━━━━━━━━━━━━━\u001b[0m\u001b[37m\u001b[0m \u001b[1m5s\u001b[0m 3ms/step - accuracy: 0.7362 - loss: 0.5393 - val_accuracy: 0.7306 - val_loss: 0.5528\n",
      "Epoch 25/150\n",
      "\u001b[1m858/858\u001b[0m \u001b[32m━━━━━━━━━━━━━━━━━━━━\u001b[0m\u001b[37m\u001b[0m \u001b[1m2s\u001b[0m 3ms/step - accuracy: 0.7355 - loss: 0.5391 - val_accuracy: 0.7319 - val_loss: 0.5534\n",
      "Epoch 26/150\n",
      "\u001b[1m858/858\u001b[0m \u001b[32m━━━━━━━━━━━━━━━━━━━━\u001b[0m\u001b[37m\u001b[0m \u001b[1m2s\u001b[0m 3ms/step - accuracy: 0.7415 - loss: 0.5353 - val_accuracy: 0.7306 - val_loss: 0.5536\n",
      "Epoch 27/150\n",
      "\u001b[1m858/858\u001b[0m \u001b[32m━━━━━━━━━━━━━━━━━━━━\u001b[0m\u001b[37m\u001b[0m \u001b[1m4s\u001b[0m 4ms/step - accuracy: 0.7391 - loss: 0.5354 - val_accuracy: 0.7303 - val_loss: 0.5527\n",
      "Epoch 28/150\n",
      "\u001b[1m858/858\u001b[0m \u001b[32m━━━━━━━━━━━━━━━━━━━━\u001b[0m\u001b[37m\u001b[0m \u001b[1m3s\u001b[0m 3ms/step - accuracy: 0.7375 - loss: 0.5376 - val_accuracy: 0.7328 - val_loss: 0.5527\n",
      "Epoch 29/150\n",
      "\u001b[1m858/858\u001b[0m \u001b[32m━━━━━━━━━━━━━━━━━━━━\u001b[0m\u001b[37m\u001b[0m \u001b[1m5s\u001b[0m 3ms/step - accuracy: 0.7374 - loss: 0.5378 - val_accuracy: 0.7309 - val_loss: 0.5576\n",
      "Epoch 30/150\n",
      "\u001b[1m858/858\u001b[0m \u001b[32m━━━━━━━━━━━━━━━━━━━━\u001b[0m\u001b[37m\u001b[0m \u001b[1m2s\u001b[0m 3ms/step - accuracy: 0.7376 - loss: 0.5364 - val_accuracy: 0.7300 - val_loss: 0.5516\n",
      "Epoch 31/150\n",
      "\u001b[1m858/858\u001b[0m \u001b[32m━━━━━━━━━━━━━━━━━━━━\u001b[0m\u001b[37m\u001b[0m \u001b[1m3s\u001b[0m 4ms/step - accuracy: 0.7413 - loss: 0.5314 - val_accuracy: 0.7316 - val_loss: 0.5554\n",
      "Epoch 32/150\n",
      "\u001b[1m858/858\u001b[0m \u001b[32m━━━━━━━━━━━━━━━━━━━━\u001b[0m\u001b[37m\u001b[0m \u001b[1m3s\u001b[0m 4ms/step - accuracy: 0.7406 - loss: 0.5342 - val_accuracy: 0.7322 - val_loss: 0.5533\n",
      "Epoch 33/150\n",
      "\u001b[1m858/858\u001b[0m \u001b[32m━━━━━━━━━━━━━━━━━━━━\u001b[0m\u001b[37m\u001b[0m \u001b[1m4s\u001b[0m 3ms/step - accuracy: 0.7354 - loss: 0.5403 - val_accuracy: 0.7315 - val_loss: 0.5551\n",
      "Epoch 34/150\n",
      "\u001b[1m858/858\u001b[0m \u001b[32m━━━━━━━━━━━━━━━━━━━━\u001b[0m\u001b[37m\u001b[0m \u001b[1m2s\u001b[0m 3ms/step - accuracy: 0.7409 - loss: 0.5333 - val_accuracy: 0.7297 - val_loss: 0.5520\n",
      "Epoch 35/150\n",
      "\u001b[1m858/858\u001b[0m \u001b[32m━━━━━━━━━━━━━━━━━━━━\u001b[0m\u001b[37m\u001b[0m \u001b[1m3s\u001b[0m 3ms/step - accuracy: 0.7410 - loss: 0.5326 - val_accuracy: 0.7325 - val_loss: 0.5532\n",
      "Epoch 36/150\n",
      "\u001b[1m858/858\u001b[0m \u001b[32m━━━━━━━━━━━━━━━━━━━━\u001b[0m\u001b[37m\u001b[0m \u001b[1m5s\u001b[0m 3ms/step - accuracy: 0.7402 - loss: 0.5360 - val_accuracy: 0.7294 - val_loss: 0.5556\n",
      "Epoch 37/150\n",
      "\u001b[1m858/858\u001b[0m \u001b[32m━━━━━━━━━━━━━━━━━━━━\u001b[0m\u001b[37m\u001b[0m \u001b[1m3s\u001b[0m 3ms/step - accuracy: 0.7383 - loss: 0.5397 - val_accuracy: 0.7305 - val_loss: 0.5548\n",
      "Epoch 38/150\n",
      "\u001b[1m858/858\u001b[0m \u001b[32m━━━━━━━━━━━━━━━━━━━━\u001b[0m\u001b[37m\u001b[0m \u001b[1m2s\u001b[0m 3ms/step - accuracy: 0.7378 - loss: 0.5371 - val_accuracy: 0.7297 - val_loss: 0.5544\n",
      "Epoch 39/150\n",
      "\u001b[1m858/858\u001b[0m \u001b[32m━━━━━━━━━━━━━━━━━━━━\u001b[0m\u001b[37m\u001b[0m \u001b[1m3s\u001b[0m 4ms/step - accuracy: 0.7396 - loss: 0.5346 - val_accuracy: 0.7289 - val_loss: 0.5567\n",
      "Epoch 40/150\n",
      "\u001b[1m858/858\u001b[0m \u001b[32m━━━━━━━━━━━━━━━━━━━━\u001b[0m\u001b[37m\u001b[0m \u001b[1m3s\u001b[0m 4ms/step - accuracy: 0.7389 - loss: 0.5383 - val_accuracy: 0.7287 - val_loss: 0.5609\n",
      "Epoch 41/150\n",
      "\u001b[1m858/858\u001b[0m \u001b[32m━━━━━━━━━━━━━━━━━━━━\u001b[0m\u001b[37m\u001b[0m \u001b[1m4s\u001b[0m 3ms/step - accuracy: 0.7402 - loss: 0.5346 - val_accuracy: 0.7290 - val_loss: 0.5554\n",
      "Epoch 42/150\n",
      "\u001b[1m858/858\u001b[0m \u001b[32m━━━━━━━━━━━━━━━━━━━━\u001b[0m\u001b[37m\u001b[0m \u001b[1m2s\u001b[0m 3ms/step - accuracy: 0.7352 - loss: 0.5401 - val_accuracy: 0.7294 - val_loss: 0.5542\n",
      "Epoch 43/150\n",
      "\u001b[1m858/858\u001b[0m \u001b[32m━━━━━━━━━━━━━━━━━━━━\u001b[0m\u001b[37m\u001b[0m \u001b[1m3s\u001b[0m 3ms/step - accuracy: 0.7412 - loss: 0.5333 - val_accuracy: 0.7290 - val_loss: 0.5547\n",
      "Epoch 44/150\n",
      "\u001b[1m858/858\u001b[0m \u001b[32m━━━━━━━━━━━━━━━━━━━━\u001b[0m\u001b[37m\u001b[0m \u001b[1m5s\u001b[0m 3ms/step - accuracy: 0.7390 - loss: 0.5344 - val_accuracy: 0.7299 - val_loss: 0.5542\n",
      "Epoch 45/150\n",
      "\u001b[1m858/858\u001b[0m \u001b[32m━━━━━━━━━━━━━━━━━━━━\u001b[0m\u001b[37m\u001b[0m \u001b[1m2s\u001b[0m 3ms/step - accuracy: 0.7403 - loss: 0.5312 - val_accuracy: 0.7286 - val_loss: 0.5559\n",
      "Epoch 46/150\n",
      "\u001b[1m858/858\u001b[0m \u001b[32m━━━━━━━━━━━━━━━━━━━━\u001b[0m\u001b[37m\u001b[0m \u001b[1m3s\u001b[0m 3ms/step - accuracy: 0.7424 - loss: 0.5304 - val_accuracy: 0.7293 - val_loss: 0.5574\n",
      "Epoch 47/150\n",
      "\u001b[1m858/858\u001b[0m \u001b[32m━━━━━━━━━━━━━━━━━━━━\u001b[0m\u001b[37m\u001b[0m \u001b[1m3s\u001b[0m 3ms/step - accuracy: 0.7371 - loss: 0.5360 - val_accuracy: 0.7283 - val_loss: 0.5547\n",
      "Epoch 48/150\n",
      "\u001b[1m858/858\u001b[0m \u001b[32m━━━━━━━━━━━━━━━━━━━━\u001b[0m\u001b[37m\u001b[0m \u001b[1m5s\u001b[0m 3ms/step - accuracy: 0.7364 - loss: 0.5379 - val_accuracy: 0.7322 - val_loss: 0.5559\n",
      "Epoch 49/150\n",
      "\u001b[1m858/858\u001b[0m \u001b[32m━━━━━━━━━━━━━━━━━━━━\u001b[0m\u001b[37m\u001b[0m \u001b[1m5s\u001b[0m 3ms/step - accuracy: 0.7349 - loss: 0.5392 - val_accuracy: 0.7290 - val_loss: 0.5598\n",
      "Epoch 50/150\n",
      "\u001b[1m858/858\u001b[0m \u001b[32m━━━━━━━━━━━━━━━━━━━━\u001b[0m\u001b[37m\u001b[0m \u001b[1m3s\u001b[0m 3ms/step - accuracy: 0.7444 - loss: 0.5283 - val_accuracy: 0.7308 - val_loss: 0.5550\n",
      "Epoch 51/150\n",
      "\u001b[1m858/858\u001b[0m \u001b[32m━━━━━━━━━━━━━━━━━━━━\u001b[0m\u001b[37m\u001b[0m \u001b[1m4s\u001b[0m 4ms/step - accuracy: 0.7451 - loss: 0.5278 - val_accuracy: 0.7287 - val_loss: 0.5559\n",
      "Epoch 52/150\n",
      "\u001b[1m858/858\u001b[0m \u001b[32m━━━━━━━━━━━━━━━━━━━━\u001b[0m\u001b[37m\u001b[0m \u001b[1m4s\u001b[0m 3ms/step - accuracy: 0.7368 - loss: 0.5359 - val_accuracy: 0.7299 - val_loss: 0.5559\n",
      "Epoch 53/150\n",
      "\u001b[1m858/858\u001b[0m \u001b[32m━━━━━━━━━━━━━━━━━━━━\u001b[0m\u001b[37m\u001b[0m \u001b[1m3s\u001b[0m 3ms/step - accuracy: 0.7400 - loss: 0.5338 - val_accuracy: 0.7277 - val_loss: 0.5546\n",
      "Epoch 54/150\n",
      "\u001b[1m858/858\u001b[0m \u001b[32m━━━━━━━━━━━━━━━━━━━━\u001b[0m\u001b[37m\u001b[0m \u001b[1m3s\u001b[0m 3ms/step - accuracy: 0.7393 - loss: 0.5368 - val_accuracy: 0.7306 - val_loss: 0.5565\n",
      "Epoch 55/150\n",
      "\u001b[1m858/858\u001b[0m \u001b[32m━━━━━━━━━━━━━━━━━━━━\u001b[0m\u001b[37m\u001b[0m \u001b[1m4s\u001b[0m 5ms/step - accuracy: 0.7404 - loss: 0.5308 - val_accuracy: 0.7280 - val_loss: 0.5556\n",
      "Epoch 56/150\n",
      "\u001b[1m858/858\u001b[0m \u001b[32m━━━━━━━━━━━━━━━━━━━━\u001b[0m\u001b[37m\u001b[0m \u001b[1m2s\u001b[0m 3ms/step - accuracy: 0.7441 - loss: 0.5296 - val_accuracy: 0.7303 - val_loss: 0.5555\n",
      "Epoch 57/150\n",
      "\u001b[1m858/858\u001b[0m \u001b[32m━━━━━━━━━━━━━━━━━━━━\u001b[0m\u001b[37m\u001b[0m \u001b[1m3s\u001b[0m 3ms/step - accuracy: 0.7399 - loss: 0.5353 - val_accuracy: 0.7283 - val_loss: 0.5567\n",
      "Epoch 58/150\n",
      "\u001b[1m858/858\u001b[0m \u001b[32m━━━━━━━━━━━━━━━━━━━━\u001b[0m\u001b[37m\u001b[0m \u001b[1m3s\u001b[0m 3ms/step - accuracy: 0.7416 - loss: 0.5304 - val_accuracy: 0.7255 - val_loss: 0.5576\n",
      "Epoch 59/150\n",
      "\u001b[1m858/858\u001b[0m \u001b[32m━━━━━━━━━━━━━━━━━━━━\u001b[0m\u001b[37m\u001b[0m \u001b[1m3s\u001b[0m 3ms/step - accuracy: 0.7434 - loss: 0.5302 - val_accuracy: 0.7277 - val_loss: 0.5578\n",
      "Epoch 60/150\n",
      "\u001b[1m858/858\u001b[0m \u001b[32m━━━━━━━━━━━━━━━━━━━━\u001b[0m\u001b[37m\u001b[0m \u001b[1m5s\u001b[0m 3ms/step - accuracy: 0.7437 - loss: 0.5284 - val_accuracy: 0.7327 - val_loss: 0.5548\n",
      "Epoch 61/150\n",
      "\u001b[1m858/858\u001b[0m \u001b[32m━━━━━━━━━━━━━━━━━━━━\u001b[0m\u001b[37m\u001b[0m \u001b[1m3s\u001b[0m 3ms/step - accuracy: 0.7417 - loss: 0.5314 - val_accuracy: 0.7294 - val_loss: 0.5566\n",
      "Epoch 62/150\n",
      "\u001b[1m858/858\u001b[0m \u001b[32m━━━━━━━━━━━━━━━━━━━━\u001b[0m\u001b[37m\u001b[0m \u001b[1m2s\u001b[0m 3ms/step - accuracy: 0.7428 - loss: 0.5295 - val_accuracy: 0.7322 - val_loss: 0.5591\n",
      "Epoch 63/150\n",
      "\u001b[1m858/858\u001b[0m \u001b[32m━━━━━━━━━━━━━━━━━━━━\u001b[0m\u001b[37m\u001b[0m \u001b[1m3s\u001b[0m 4ms/step - accuracy: 0.7382 - loss: 0.5373 - val_accuracy: 0.7280 - val_loss: 0.5575\n",
      "Epoch 64/150\n",
      "\u001b[1m858/858\u001b[0m \u001b[32m━━━━━━━━━━━━━━━━━━━━\u001b[0m\u001b[37m\u001b[0m \u001b[1m4s\u001b[0m 4ms/step - accuracy: 0.7418 - loss: 0.5323 - val_accuracy: 0.7309 - val_loss: 0.5594\n",
      "Epoch 65/150\n",
      "\u001b[1m858/858\u001b[0m \u001b[32m━━━━━━━━━━━━━━━━━━━━\u001b[0m\u001b[37m\u001b[0m \u001b[1m3s\u001b[0m 3ms/step - accuracy: 0.7400 - loss: 0.5348 - val_accuracy: 0.7293 - val_loss: 0.5580\n",
      "Epoch 66/150\n",
      "\u001b[1m858/858\u001b[0m \u001b[32m━━━━━━━━━━━━━━━━━━━━\u001b[0m\u001b[37m\u001b[0m \u001b[1m5s\u001b[0m 3ms/step - accuracy: 0.7400 - loss: 0.5328 - val_accuracy: 0.7246 - val_loss: 0.5573\n",
      "Epoch 67/150\n",
      "\u001b[1m858/858\u001b[0m \u001b[32m━━━━━━━━━━━━━━━━━━━━\u001b[0m\u001b[37m\u001b[0m \u001b[1m3s\u001b[0m 4ms/step - accuracy: 0.7396 - loss: 0.5355 - val_accuracy: 0.7278 - val_loss: 0.5585\n",
      "Epoch 68/150\n",
      "\u001b[1m858/858\u001b[0m \u001b[32m━━━━━━━━━━━━━━━━━━━━\u001b[0m\u001b[37m\u001b[0m \u001b[1m4s\u001b[0m 3ms/step - accuracy: 0.7390 - loss: 0.5343 - val_accuracy: 0.7276 - val_loss: 0.5566\n",
      "Epoch 69/150\n",
      "\u001b[1m858/858\u001b[0m \u001b[32m━━━━━━━━━━━━━━━━━━━━\u001b[0m\u001b[37m\u001b[0m \u001b[1m2s\u001b[0m 3ms/step - accuracy: 0.7426 - loss: 0.5307 - val_accuracy: 0.7284 - val_loss: 0.5592\n",
      "Epoch 70/150\n",
      "\u001b[1m858/858\u001b[0m \u001b[32m━━━━━━━━━━━━━━━━━━━━\u001b[0m\u001b[37m\u001b[0m \u001b[1m2s\u001b[0m 3ms/step - accuracy: 0.7457 - loss: 0.5283 - val_accuracy: 0.7273 - val_loss: 0.5573\n",
      "Epoch 71/150\n",
      "\u001b[1m858/858\u001b[0m \u001b[32m━━━━━━━━━━━━━━━━━━━━\u001b[0m\u001b[37m\u001b[0m \u001b[1m3s\u001b[0m 4ms/step - accuracy: 0.7447 - loss: 0.5272 - val_accuracy: 0.7277 - val_loss: 0.5592\n",
      "Epoch 72/150\n",
      "\u001b[1m858/858\u001b[0m \u001b[32m━━━━━━━━━━━━━━━━━━━━\u001b[0m\u001b[37m\u001b[0m \u001b[1m3s\u001b[0m 4ms/step - accuracy: 0.7384 - loss: 0.5317 - val_accuracy: 0.7278 - val_loss: 0.5593\n",
      "Epoch 73/150\n",
      "\u001b[1m858/858\u001b[0m \u001b[32m━━━━━━━━━━━━━━━━━━━━\u001b[0m\u001b[37m\u001b[0m \u001b[1m3s\u001b[0m 3ms/step - accuracy: 0.7420 - loss: 0.5312 - val_accuracy: 0.7270 - val_loss: 0.5579\n",
      "Epoch 74/150\n",
      "\u001b[1m858/858\u001b[0m \u001b[32m━━━━━━━━━━━━━━━━━━━━\u001b[0m\u001b[37m\u001b[0m \u001b[1m5s\u001b[0m 3ms/step - accuracy: 0.7414 - loss: 0.5334 - val_accuracy: 0.7292 - val_loss: 0.5584\n",
      "Epoch 75/150\n",
      "\u001b[1m858/858\u001b[0m \u001b[32m━━━━━━━━━━━━━━━━━━━━\u001b[0m\u001b[37m\u001b[0m \u001b[1m3s\u001b[0m 4ms/step - accuracy: 0.7471 - loss: 0.5245 - val_accuracy: 0.7283 - val_loss: 0.5573\n",
      "Epoch 76/150\n",
      "\u001b[1m858/858\u001b[0m \u001b[32m━━━━━━━━━━━━━━━━━━━━\u001b[0m\u001b[37m\u001b[0m \u001b[1m3s\u001b[0m 4ms/step - accuracy: 0.7466 - loss: 0.5267 - val_accuracy: 0.7299 - val_loss: 0.5584\n",
      "Epoch 77/150\n",
      "\u001b[1m858/858\u001b[0m \u001b[32m━━━━━━━━━━━━━━━━━━━━\u001b[0m\u001b[37m\u001b[0m \u001b[1m4s\u001b[0m 3ms/step - accuracy: 0.7387 - loss: 0.5311 - val_accuracy: 0.7300 - val_loss: 0.5600\n",
      "Epoch 78/150\n",
      "\u001b[1m858/858\u001b[0m \u001b[32m━━━━━━━━━━━━━━━━━━━━\u001b[0m\u001b[37m\u001b[0m \u001b[1m3s\u001b[0m 3ms/step - accuracy: 0.7405 - loss: 0.5335 - val_accuracy: 0.7278 - val_loss: 0.5599\n",
      "Epoch 79/150\n",
      "\u001b[1m858/858\u001b[0m \u001b[32m━━━━━━━━━━━━━━━━━━━━\u001b[0m\u001b[37m\u001b[0m \u001b[1m3s\u001b[0m 3ms/step - accuracy: 0.7359 - loss: 0.5344 - val_accuracy: 0.7278 - val_loss: 0.5591\n",
      "Epoch 80/150\n",
      "\u001b[1m858/858\u001b[0m \u001b[32m━━━━━━━━━━━━━━━━━━━━\u001b[0m\u001b[37m\u001b[0m \u001b[1m5s\u001b[0m 3ms/step - accuracy: 0.7416 - loss: 0.5275 - val_accuracy: 0.7271 - val_loss: 0.5616\n",
      "Epoch 81/150\n",
      "\u001b[1m858/858\u001b[0m \u001b[32m━━━━━━━━━━━━━━━━━━━━\u001b[0m\u001b[37m\u001b[0m \u001b[1m2s\u001b[0m 3ms/step - accuracy: 0.7391 - loss: 0.5307 - val_accuracy: 0.7277 - val_loss: 0.5595\n",
      "Epoch 82/150\n",
      "\u001b[1m858/858\u001b[0m \u001b[32m━━━━━━━━━━━━━━━━━━━━\u001b[0m\u001b[37m\u001b[0m \u001b[1m3s\u001b[0m 3ms/step - accuracy: 0.7384 - loss: 0.5332 - val_accuracy: 0.7289 - val_loss: 0.5607\n",
      "Epoch 83/150\n",
      "\u001b[1m858/858\u001b[0m \u001b[32m━━━━━━━━━━━━━━━━━━━━\u001b[0m\u001b[37m\u001b[0m \u001b[1m3s\u001b[0m 4ms/step - accuracy: 0.7418 - loss: 0.5295 - val_accuracy: 0.7286 - val_loss: 0.5578\n",
      "Epoch 84/150\n",
      "\u001b[1m858/858\u001b[0m \u001b[32m━━━━━━━━━━━━━━━━━━━━\u001b[0m\u001b[37m\u001b[0m \u001b[1m3s\u001b[0m 4ms/step - accuracy: 0.7399 - loss: 0.5325 - val_accuracy: 0.7281 - val_loss: 0.5643\n",
      "Epoch 85/150\n",
      "\u001b[1m858/858\u001b[0m \u001b[32m━━━━━━━━━━━━━━━━━━━━\u001b[0m\u001b[37m\u001b[0m \u001b[1m2s\u001b[0m 3ms/step - accuracy: 0.7395 - loss: 0.5358 - val_accuracy: 0.7289 - val_loss: 0.5594\n",
      "Epoch 86/150\n",
      "\u001b[1m858/858\u001b[0m \u001b[32m━━━━━━━━━━━━━━━━━━━━\u001b[0m\u001b[37m\u001b[0m \u001b[1m3s\u001b[0m 3ms/step - accuracy: 0.7405 - loss: 0.5318 - val_accuracy: 0.7281 - val_loss: 0.5588\n",
      "Epoch 87/150\n",
      "\u001b[1m858/858\u001b[0m \u001b[32m━━━━━━━━━━━━━━━━━━━━\u001b[0m\u001b[37m\u001b[0m \u001b[1m6s\u001b[0m 4ms/step - accuracy: 0.7377 - loss: 0.5319 - val_accuracy: 0.7281 - val_loss: 0.5608\n",
      "Epoch 88/150\n",
      "\u001b[1m858/858\u001b[0m \u001b[32m━━━━━━━━━━━━━━━━━━━━\u001b[0m\u001b[37m\u001b[0m \u001b[1m4s\u001b[0m 3ms/step - accuracy: 0.7434 - loss: 0.5322 - val_accuracy: 0.7296 - val_loss: 0.5623\n",
      "Epoch 89/150\n",
      "\u001b[1m858/858\u001b[0m \u001b[32m━━━━━━━━━━━━━━━━━━━━\u001b[0m\u001b[37m\u001b[0m \u001b[1m3s\u001b[0m 3ms/step - accuracy: 0.7402 - loss: 0.5297 - val_accuracy: 0.7284 - val_loss: 0.5598\n",
      "Epoch 90/150\n",
      "\u001b[1m858/858\u001b[0m \u001b[32m━━━━━━━━━━━━━━━━━━━━\u001b[0m\u001b[37m\u001b[0m \u001b[1m3s\u001b[0m 3ms/step - accuracy: 0.7380 - loss: 0.5331 - val_accuracy: 0.7280 - val_loss: 0.5648\n",
      "Epoch 91/150\n",
      "\u001b[1m858/858\u001b[0m \u001b[32m━━━━━━━━━━━━━━━━━━━━\u001b[0m\u001b[37m\u001b[0m \u001b[1m4s\u001b[0m 4ms/step - accuracy: 0.7439 - loss: 0.5276 - val_accuracy: 0.7280 - val_loss: 0.5584\n",
      "Epoch 92/150\n",
      "\u001b[1m858/858\u001b[0m \u001b[32m━━━━━━━━━━━━━━━━━━━━\u001b[0m\u001b[37m\u001b[0m \u001b[1m4s\u001b[0m 3ms/step - accuracy: 0.7379 - loss: 0.5338 - val_accuracy: 0.7276 - val_loss: 0.5616\n",
      "Epoch 93/150\n",
      "\u001b[1m858/858\u001b[0m \u001b[32m━━━━━━━━━━━━━━━━━━━━\u001b[0m\u001b[37m\u001b[0m \u001b[1m3s\u001b[0m 3ms/step - accuracy: 0.7359 - loss: 0.5360 - val_accuracy: 0.7310 - val_loss: 0.5623\n",
      "Epoch 94/150\n",
      "\u001b[1m858/858\u001b[0m \u001b[32m━━━━━━━━━━━━━━━━━━━━\u001b[0m\u001b[37m\u001b[0m \u001b[1m3s\u001b[0m 3ms/step - accuracy: 0.7381 - loss: 0.5328 - val_accuracy: 0.7302 - val_loss: 0.5577\n",
      "Epoch 95/150\n",
      "\u001b[1m858/858\u001b[0m \u001b[32m━━━━━━━━━━━━━━━━━━━━\u001b[0m\u001b[37m\u001b[0m \u001b[1m3s\u001b[0m 4ms/step - accuracy: 0.7374 - loss: 0.5318 - val_accuracy: 0.7281 - val_loss: 0.5642\n",
      "Epoch 96/150\n",
      "\u001b[1m858/858\u001b[0m \u001b[32m━━━━━━━━━━━━━━━━━━━━\u001b[0m\u001b[37m\u001b[0m \u001b[1m4s\u001b[0m 4ms/step - accuracy: 0.7416 - loss: 0.5312 - val_accuracy: 0.7306 - val_loss: 0.5598\n",
      "Epoch 97/150\n",
      "\u001b[1m858/858\u001b[0m \u001b[32m━━━━━━━━━━━━━━━━━━━━\u001b[0m\u001b[37m\u001b[0m \u001b[1m3s\u001b[0m 3ms/step - accuracy: 0.7398 - loss: 0.5285 - val_accuracy: 0.7292 - val_loss: 0.5598\n",
      "Epoch 98/150\n",
      "\u001b[1m858/858\u001b[0m \u001b[32m━━━━━━━━━━━━━━━━━━━━\u001b[0m\u001b[37m\u001b[0m \u001b[1m2s\u001b[0m 3ms/step - accuracy: 0.7417 - loss: 0.5293 - val_accuracy: 0.7293 - val_loss: 0.5627\n",
      "Epoch 99/150\n",
      "\u001b[1m858/858\u001b[0m \u001b[32m━━━━━━━━━━━━━━━━━━━━\u001b[0m\u001b[37m\u001b[0m \u001b[1m2s\u001b[0m 3ms/step - accuracy: 0.7396 - loss: 0.5298 - val_accuracy: 0.7290 - val_loss: 0.5647\n",
      "Epoch 100/150\n",
      "\u001b[1m858/858\u001b[0m \u001b[32m━━━━━━━━━━━━━━━━━━━━\u001b[0m\u001b[37m\u001b[0m \u001b[1m3s\u001b[0m 3ms/step - accuracy: 0.7381 - loss: 0.5323 - val_accuracy: 0.7293 - val_loss: 0.5629\n",
      "Epoch 101/150\n",
      "\u001b[1m858/858\u001b[0m \u001b[32m━━━━━━━━━━━━━━━━━━━━\u001b[0m\u001b[37m\u001b[0m \u001b[1m4s\u001b[0m 4ms/step - accuracy: 0.7391 - loss: 0.5331 - val_accuracy: 0.7306 - val_loss: 0.5646\n",
      "Epoch 102/150\n",
      "\u001b[1m858/858\u001b[0m \u001b[32m━━━━━━━━━━━━━━━━━━━━\u001b[0m\u001b[37m\u001b[0m \u001b[1m4s\u001b[0m 3ms/step - accuracy: 0.7421 - loss: 0.5296 - val_accuracy: 0.7312 - val_loss: 0.5638\n",
      "Epoch 103/150\n",
      "\u001b[1m858/858\u001b[0m \u001b[32m━━━━━━━━━━━━━━━━━━━━\u001b[0m\u001b[37m\u001b[0m \u001b[1m5s\u001b[0m 3ms/step - accuracy: 0.7412 - loss: 0.5309 - val_accuracy: 0.7292 - val_loss: 0.5630\n",
      "Epoch 104/150\n",
      "\u001b[1m858/858\u001b[0m \u001b[32m━━━━━━━━━━━━━━━━━━━━\u001b[0m\u001b[37m\u001b[0m \u001b[1m4s\u001b[0m 4ms/step - accuracy: 0.7422 - loss: 0.5283 - val_accuracy: 0.7312 - val_loss: 0.5687\n",
      "Epoch 105/150\n",
      "\u001b[1m858/858\u001b[0m \u001b[32m━━━━━━━━━━━━━━━━━━━━\u001b[0m\u001b[37m\u001b[0m \u001b[1m4s\u001b[0m 3ms/step - accuracy: 0.7422 - loss: 0.5267 - val_accuracy: 0.7305 - val_loss: 0.5634\n",
      "Epoch 106/150\n",
      "\u001b[1m858/858\u001b[0m \u001b[32m━━━━━━━━━━━━━━━━━━━━\u001b[0m\u001b[37m\u001b[0m \u001b[1m2s\u001b[0m 3ms/step - accuracy: 0.7450 - loss: 0.5267 - val_accuracy: 0.7303 - val_loss: 0.5646\n",
      "Epoch 107/150\n",
      "\u001b[1m858/858\u001b[0m \u001b[32m━━━━━━━━━━━━━━━━━━━━\u001b[0m\u001b[37m\u001b[0m \u001b[1m2s\u001b[0m 3ms/step - accuracy: 0.7419 - loss: 0.5268 - val_accuracy: 0.7335 - val_loss: 0.5650\n",
      "Epoch 108/150\n",
      "\u001b[1m858/858\u001b[0m \u001b[32m━━━━━━━━━━━━━━━━━━━━\u001b[0m\u001b[37m\u001b[0m \u001b[1m3s\u001b[0m 4ms/step - accuracy: 0.7427 - loss: 0.5286 - val_accuracy: 0.7308 - val_loss: 0.5671\n",
      "Epoch 109/150\n",
      "\u001b[1m858/858\u001b[0m \u001b[32m━━━━━━━━━━━━━━━━━━━━\u001b[0m\u001b[37m\u001b[0m \u001b[1m5s\u001b[0m 3ms/step - accuracy: 0.7423 - loss: 0.5299 - val_accuracy: 0.7328 - val_loss: 0.5649\n",
      "Epoch 110/150\n",
      "\u001b[1m858/858\u001b[0m \u001b[32m━━━━━━━━━━━━━━━━━━━━\u001b[0m\u001b[37m\u001b[0m \u001b[1m2s\u001b[0m 3ms/step - accuracy: 0.7385 - loss: 0.5357 - val_accuracy: 0.7302 - val_loss: 0.5632\n",
      "Epoch 111/150\n",
      "\u001b[1m858/858\u001b[0m \u001b[32m━━━━━━━━━━━━━━━━━━━━\u001b[0m\u001b[37m\u001b[0m \u001b[1m3s\u001b[0m 3ms/step - accuracy: 0.7485 - loss: 0.5236 - val_accuracy: 0.7306 - val_loss: 0.5635\n",
      "Epoch 112/150\n",
      "\u001b[1m858/858\u001b[0m \u001b[32m━━━━━━━━━━━━━━━━━━━━\u001b[0m\u001b[37m\u001b[0m \u001b[1m3s\u001b[0m 4ms/step - accuracy: 0.7435 - loss: 0.5298 - val_accuracy: 0.7319 - val_loss: 0.5649\n",
      "Epoch 113/150\n",
      "\u001b[1m858/858\u001b[0m \u001b[32m━━━━━━━━━━━━━━━━━━━━\u001b[0m\u001b[37m\u001b[0m \u001b[1m3s\u001b[0m 4ms/step - accuracy: 0.7383 - loss: 0.5323 - val_accuracy: 0.7313 - val_loss: 0.5683\n",
      "Epoch 114/150\n",
      "\u001b[1m858/858\u001b[0m \u001b[32m━━━━━━━━━━━━━━━━━━━━\u001b[0m\u001b[37m\u001b[0m \u001b[1m4s\u001b[0m 3ms/step - accuracy: 0.7413 - loss: 0.5312 - val_accuracy: 0.7321 - val_loss: 0.5634\n",
      "Epoch 115/150\n",
      "\u001b[1m858/858\u001b[0m \u001b[32m━━━━━━━━━━━━━━━━━━━━\u001b[0m\u001b[37m\u001b[0m \u001b[1m2s\u001b[0m 3ms/step - accuracy: 0.7402 - loss: 0.5310 - val_accuracy: 0.7303 - val_loss: 0.5616\n",
      "Epoch 116/150\n",
      "\u001b[1m858/858\u001b[0m \u001b[32m━━━━━━━━━━━━━━━━━━━━\u001b[0m\u001b[37m\u001b[0m \u001b[1m3s\u001b[0m 3ms/step - accuracy: 0.7419 - loss: 0.5293 - val_accuracy: 0.7321 - val_loss: 0.5638\n",
      "Epoch 117/150\n",
      "\u001b[1m858/858\u001b[0m \u001b[32m━━━━━━━━━━━━━━━━━━━━\u001b[0m\u001b[37m\u001b[0m \u001b[1m4s\u001b[0m 5ms/step - accuracy: 0.7391 - loss: 0.5319 - val_accuracy: 0.7321 - val_loss: 0.5657\n",
      "Epoch 118/150\n",
      "\u001b[1m858/858\u001b[0m \u001b[32m━━━━━━━━━━━━━━━━━━━━\u001b[0m\u001b[37m\u001b[0m \u001b[1m4s\u001b[0m 3ms/step - accuracy: 0.7397 - loss: 0.5299 - val_accuracy: 0.7308 - val_loss: 0.5654\n",
      "Epoch 119/150\n",
      "\u001b[1m858/858\u001b[0m \u001b[32m━━━━━━━━━━━━━━━━━━━━\u001b[0m\u001b[37m\u001b[0m \u001b[1m3s\u001b[0m 3ms/step - accuracy: 0.7379 - loss: 0.5305 - val_accuracy: 0.7299 - val_loss: 0.5651\n",
      "Epoch 120/150\n",
      "\u001b[1m858/858\u001b[0m \u001b[32m━━━━━━━━━━━━━━━━━━━━\u001b[0m\u001b[37m\u001b[0m \u001b[1m6s\u001b[0m 4ms/step - accuracy: 0.7398 - loss: 0.5289 - val_accuracy: 0.7287 - val_loss: 0.5656\n",
      "Epoch 121/150\n",
      "\u001b[1m858/858\u001b[0m \u001b[32m━━━━━━━━━━━━━━━━━━━━\u001b[0m\u001b[37m\u001b[0m \u001b[1m5s\u001b[0m 3ms/step - accuracy: 0.7382 - loss: 0.5331 - val_accuracy: 0.7284 - val_loss: 0.5680\n",
      "Epoch 122/150\n",
      "\u001b[1m858/858\u001b[0m \u001b[32m━━━━━━━━━━━━━━━━━━━━\u001b[0m\u001b[37m\u001b[0m \u001b[1m5s\u001b[0m 3ms/step - accuracy: 0.7418 - loss: 0.5280 - val_accuracy: 0.7297 - val_loss: 0.5626\n",
      "Epoch 123/150\n",
      "\u001b[1m858/858\u001b[0m \u001b[32m━━━━━━━━━━━━━━━━━━━━\u001b[0m\u001b[37m\u001b[0m \u001b[1m6s\u001b[0m 4ms/step - accuracy: 0.7460 - loss: 0.5248 - val_accuracy: 0.7293 - val_loss: 0.5645\n",
      "Epoch 124/150\n",
      "\u001b[1m858/858\u001b[0m \u001b[32m━━━━━━━━━━━━━━━━━━━━\u001b[0m\u001b[37m\u001b[0m \u001b[1m5s\u001b[0m 3ms/step - accuracy: 0.7393 - loss: 0.5335 - val_accuracy: 0.7296 - val_loss: 0.5671\n",
      "Epoch 125/150\n",
      "\u001b[1m858/858\u001b[0m \u001b[32m━━━━━━━━━━━━━━━━━━━━\u001b[0m\u001b[37m\u001b[0m \u001b[1m3s\u001b[0m 3ms/step - accuracy: 0.7437 - loss: 0.5287 - val_accuracy: 0.7294 - val_loss: 0.5666\n",
      "Epoch 126/150\n",
      "\u001b[1m858/858\u001b[0m \u001b[32m━━━━━━━━━━━━━━━━━━━━\u001b[0m\u001b[37m\u001b[0m \u001b[1m6s\u001b[0m 4ms/step - accuracy: 0.7415 - loss: 0.5279 - val_accuracy: 0.7290 - val_loss: 0.5621\n",
      "Epoch 127/150\n",
      "\u001b[1m858/858\u001b[0m \u001b[32m━━━━━━━━━━━━━━━━━━━━\u001b[0m\u001b[37m\u001b[0m \u001b[1m2s\u001b[0m 3ms/step - accuracy: 0.7415 - loss: 0.5273 - val_accuracy: 0.7313 - val_loss: 0.5670\n",
      "Epoch 128/150\n",
      "\u001b[1m858/858\u001b[0m \u001b[32m━━━━━━━━━━━━━━━━━━━━\u001b[0m\u001b[37m\u001b[0m \u001b[1m3s\u001b[0m 3ms/step - accuracy: 0.7436 - loss: 0.5311 - val_accuracy: 0.7310 - val_loss: 0.5707\n",
      "Epoch 129/150\n",
      "\u001b[1m858/858\u001b[0m \u001b[32m━━━━━━━━━━━━━━━━━━━━\u001b[0m\u001b[37m\u001b[0m \u001b[1m3s\u001b[0m 3ms/step - accuracy: 0.7410 - loss: 0.5293 - val_accuracy: 0.7287 - val_loss: 0.5666\n",
      "Epoch 130/150\n",
      "\u001b[1m858/858\u001b[0m \u001b[32m━━━━━━━━━━━━━━━━━━━━\u001b[0m\u001b[37m\u001b[0m \u001b[1m3s\u001b[0m 4ms/step - accuracy: 0.7408 - loss: 0.5307 - val_accuracy: 0.7283 - val_loss: 0.5658\n",
      "Epoch 131/150\n",
      "\u001b[1m858/858\u001b[0m \u001b[32m━━━━━━━━━━━━━━━━━━━━\u001b[0m\u001b[37m\u001b[0m \u001b[1m3s\u001b[0m 4ms/step - accuracy: 0.7461 - loss: 0.5234 - val_accuracy: 0.7313 - val_loss: 0.5688\n",
      "Epoch 132/150\n",
      "\u001b[1m858/858\u001b[0m \u001b[32m━━━━━━━━━━━━━━━━━━━━\u001b[0m\u001b[37m\u001b[0m \u001b[1m4s\u001b[0m 3ms/step - accuracy: 0.7399 - loss: 0.5320 - val_accuracy: 0.7289 - val_loss: 0.5683\n",
      "Epoch 133/150\n",
      "\u001b[1m858/858\u001b[0m \u001b[32m━━━━━━━━━━━━━━━━━━━━\u001b[0m\u001b[37m\u001b[0m \u001b[1m3s\u001b[0m 3ms/step - accuracy: 0.7431 - loss: 0.5304 - val_accuracy: 0.7305 - val_loss: 0.5690\n",
      "Epoch 134/150\n",
      "\u001b[1m858/858\u001b[0m \u001b[32m━━━━━━━━━━━━━━━━━━━━\u001b[0m\u001b[37m\u001b[0m \u001b[1m6s\u001b[0m 4ms/step - accuracy: 0.7407 - loss: 0.5290 - val_accuracy: 0.7245 - val_loss: 0.5712\n",
      "Epoch 135/150\n",
      "\u001b[1m858/858\u001b[0m \u001b[32m━━━━━━━━━━━━━━━━━━━━\u001b[0m\u001b[37m\u001b[0m \u001b[1m2s\u001b[0m 3ms/step - accuracy: 0.7404 - loss: 0.5283 - val_accuracy: 0.7293 - val_loss: 0.5668\n",
      "Epoch 136/150\n",
      "\u001b[1m858/858\u001b[0m \u001b[32m━━━━━━━━━━━━━━━━━━━━\u001b[0m\u001b[37m\u001b[0m \u001b[1m3s\u001b[0m 3ms/step - accuracy: 0.7448 - loss: 0.5276 - val_accuracy: 0.7277 - val_loss: 0.5667\n",
      "Epoch 137/150\n",
      "\u001b[1m858/858\u001b[0m \u001b[32m━━━━━━━━━━━━━━━━━━━━\u001b[0m\u001b[37m\u001b[0m \u001b[1m2s\u001b[0m 3ms/step - accuracy: 0.7418 - loss: 0.5316 - val_accuracy: 0.7276 - val_loss: 0.5679\n",
      "Epoch 138/150\n",
      "\u001b[1m858/858\u001b[0m \u001b[32m━━━━━━━━━━━━━━━━━━━━\u001b[0m\u001b[37m\u001b[0m \u001b[1m3s\u001b[0m 4ms/step - accuracy: 0.7403 - loss: 0.5287 - val_accuracy: 0.7268 - val_loss: 0.5669\n",
      "Epoch 139/150\n",
      "\u001b[1m858/858\u001b[0m \u001b[32m━━━━━━━━━━━━━━━━━━━━\u001b[0m\u001b[37m\u001b[0m \u001b[1m5s\u001b[0m 3ms/step - accuracy: 0.7421 - loss: 0.5256 - val_accuracy: 0.7276 - val_loss: 0.5667\n",
      "Epoch 140/150\n",
      "\u001b[1m858/858\u001b[0m \u001b[32m━━━━━━━━━━━━━━━━━━━━\u001b[0m\u001b[37m\u001b[0m \u001b[1m5s\u001b[0m 3ms/step - accuracy: 0.7417 - loss: 0.5286 - val_accuracy: 0.7280 - val_loss: 0.5703\n",
      "Epoch 141/150\n",
      "\u001b[1m858/858\u001b[0m \u001b[32m━━━━━━━━━━━━━━━━━━━━\u001b[0m\u001b[37m\u001b[0m \u001b[1m3s\u001b[0m 3ms/step - accuracy: 0.7400 - loss: 0.5327 - val_accuracy: 0.7274 - val_loss: 0.5753\n",
      "Epoch 142/150\n",
      "\u001b[1m858/858\u001b[0m \u001b[32m━━━━━━━━━━━━━━━━━━━━\u001b[0m\u001b[37m\u001b[0m \u001b[1m5s\u001b[0m 3ms/step - accuracy: 0.7414 - loss: 0.5276 - val_accuracy: 0.7313 - val_loss: 0.5679\n",
      "Epoch 143/150\n",
      "\u001b[1m858/858\u001b[0m \u001b[32m━━━━━━━━━━━━━━━━━━━━\u001b[0m\u001b[37m\u001b[0m \u001b[1m5s\u001b[0m 3ms/step - accuracy: 0.7447 - loss: 0.5262 - val_accuracy: 0.7305 - val_loss: 0.5634\n",
      "Epoch 144/150\n",
      "\u001b[1m858/858\u001b[0m \u001b[32m━━━━━━━━━━━━━━━━━━━━\u001b[0m\u001b[37m\u001b[0m \u001b[1m6s\u001b[0m 4ms/step - accuracy: 0.7389 - loss: 0.5295 - val_accuracy: 0.7299 - val_loss: 0.5704\n",
      "Epoch 145/150\n",
      "\u001b[1m858/858\u001b[0m \u001b[32m━━━━━━━━━━━━━━━━━━━━\u001b[0m\u001b[37m\u001b[0m \u001b[1m2s\u001b[0m 3ms/step - accuracy: 0.7433 - loss: 0.5284 - val_accuracy: 0.7287 - val_loss: 0.5683\n",
      "Epoch 146/150\n",
      "\u001b[1m858/858\u001b[0m \u001b[32m━━━━━━━━━━━━━━━━━━━━\u001b[0m\u001b[37m\u001b[0m \u001b[1m3s\u001b[0m 3ms/step - accuracy: 0.7398 - loss: 0.5242 - val_accuracy: 0.7305 - val_loss: 0.5649\n",
      "Epoch 147/150\n",
      "\u001b[1m858/858\u001b[0m \u001b[32m━━━━━━━━━━━━━━━━━━━━\u001b[0m\u001b[37m\u001b[0m \u001b[1m2s\u001b[0m 3ms/step - accuracy: 0.7418 - loss: 0.5276 - val_accuracy: 0.7319 - val_loss: 0.5661\n",
      "Epoch 148/150\n",
      "\u001b[1m858/858\u001b[0m \u001b[32m━━━━━━━━━━━━━━━━━━━━\u001b[0m\u001b[37m\u001b[0m \u001b[1m3s\u001b[0m 4ms/step - accuracy: 0.7449 - loss: 0.5271 - val_accuracy: 0.7309 - val_loss: 0.5653\n",
      "Epoch 149/150\n",
      "\u001b[1m858/858\u001b[0m \u001b[32m━━━━━━━━━━━━━━━━━━━━\u001b[0m\u001b[37m\u001b[0m \u001b[1m4s\u001b[0m 3ms/step - accuracy: 0.7405 - loss: 0.5339 - val_accuracy: 0.7316 - val_loss: 0.5681\n",
      "Epoch 150/150\n",
      "\u001b[1m858/858\u001b[0m \u001b[32m━━━━━━━━━━━━━━━━━━━━\u001b[0m\u001b[37m\u001b[0m \u001b[1m3s\u001b[0m 3ms/step - accuracy: 0.7401 - loss: 0.5308 - val_accuracy: 0.7293 - val_loss: 0.5652\n"
     ]
    }
   ],
   "source": [
    "# Train the optimized model\n",
    "history = optimized_nn.fit(X_train_scaled, y_train,\n",
    "                           epochs=150,\n",
    "                           batch_size=32,\n",
    "                           validation_data=(X_test_scaled, y_test))"
   ]
  },
  {
   "cell_type": "code",
   "execution_count": 21,
   "metadata": {
    "colab": {
     "base_uri": "https://localhost:8080/"
    },
    "id": "E_yDcv_GrEI_",
    "outputId": "7dc33f28-82eb-4744-e9fa-21c23a302286"
   },
   "outputs": [
    {
     "name": "stdout",
     "output_type": "stream",
     "text": [
      "215/215 - 0s - 1ms/step - accuracy: 0.7293 - loss: 0.5652\n",
      "Optimized Model Loss: 0.5652474164962769, Optimized Model Accuracy: 0.729300320148468\n"
     ]
    }
   ],
   "source": [
    "# Evaluate the model\n",
    "loss, accuracy = optimized_nn.evaluate(X_test_scaled, y_test, verbose=2)\n",
    "print(f\"Optimized Model Loss: {loss}, Optimized Model Accuracy: {accuracy}\")\n"
   ]
  },
  {
   "cell_type": "code",
   "execution_count": 22,
   "metadata": {
    "colab": {
     "base_uri": "https://localhost:8080/"
    },
    "id": "n6DcJXjurH54",
    "outputId": "f1b9ac61-8663-4c28-f99c-0ffdbd6dafbf"
   },
   "outputs": [
    {
     "name": "stderr",
     "output_type": "stream",
     "text": [
      "WARNING:absl:You are saving your model as an HDF5 file via `model.save()` or `keras.saving.save_model(model)`. This file format is considered legacy. We recommend using instead the native Keras format, e.g. `model.save('my_model.keras')` or `keras.saving.save_model(model, 'my_model.keras')`. \n"
     ]
    },
    {
     "name": "stdout",
     "output_type": "stream",
     "text": [
      "Optimized model saved as AlphabetSoupCharity_Optimization.h5\n"
     ]
    }
   ],
   "source": [
    "# Save the optimized model\n",
    "optimized_nn.save(\"AlphabetSoupCharity_Optimization.h5\")\n",
    "\n",
    "print(\"Optimized model saved as AlphabetSoupCharity_Optimization.h5\")"
   ]
  }
 ],
 "metadata": {
  "colab": {
   "provenance": []
  },
  "kernelspec": {
   "display_name": "Python 3",
   "name": "python3"
  },
  "language_info": {
   "name": "python"
  }
 },
 "nbformat": 4,
 "nbformat_minor": 0
}
